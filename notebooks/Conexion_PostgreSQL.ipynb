{
 "cells": [
  {
   "cell_type": "markdown",
   "metadata": {},
   "source": [
    "# Conexión a base de datos PostgreSQL\n",
    "\n",
    "Esta libreta establece un ejemplo de conexión a una base de datos PostgreSQL utilizando variables de ambiente\n",
    "\n",
    "La correcta ejecución de esta libreta incluye los siguientes elementos:\n",
    "* existe un archivo `.env` con las variables de ambiente de la conexión en la misma ubicación que la libreta\n",
    "* se dispone de una instancia de servicio PostgreSQL con la base de datos `universidad`"
   ]
  },
  {
   "cell_type": "markdown",
   "metadata": {},
   "source": [
    "## Conexión a la base de datos"
   ]
  },
  {
   "cell_type": "markdown",
   "metadata": {},
   "source": [
    "Inicialmente se requiere establecer la conexión con la base de datos. \n",
    "\n",
    "Primero se realizan los imports de los módulos requeridos para la tarea"
   ]
  },
  {
   "cell_type": "code",
   "execution_count": 2,
   "metadata": {},
   "outputs": [],
   "source": [
    "import sys, os\n",
    "\n",
    "# Importa el conector de la base de datos PostgreSQL\n",
    "from psycopg2 import connect\n",
    "\n",
    "# Importa la gestión de errores del conector\n",
    "from psycopg2 import OperationalError\n",
    "\n",
    "# Importa la gestión de variables de ambiente\n",
    "from dotenv import load_dotenv"
   ]
  },
  {
   "cell_type": "markdown",
   "metadata": {},
   "source": [
    "Se cargan las **variables de ambiente** necesarias para la conexión"
   ]
  },
  {
   "cell_type": "code",
   "execution_count": 3,
   "metadata": {},
   "outputs": [],
   "source": [
    "# Carga las variables de ambiente del archivo .env\n",
    "load_dotenv()\n",
    "\n",
    "PGHOST = os.getenv('PGHOST')\n",
    "PGPORT = os.getenv('PGPORT')\n",
    "PGDATABASE= os.getenv('PGDATABASE')\n",
    "PGUSER = os.getenv('PGUSER') \n",
    "PGPASSWORD = os.getenv('PGPASSWORD')"
   ]
  },
  {
   "cell_type": "markdown",
   "metadata": {},
   "source": [
    "Se inicializa la conexión dentro de un bloque `try..except` para la gestión de **excepciones**"
   ]
  },
  {
   "cell_type": "code",
   "execution_count": 4,
   "metadata": {},
   "outputs": [
    {
     "name": "stdout",
     "output_type": "stream",
     "text": [
      "Conectado!\n"
     ]
    }
   ],
   "source": [
    "# Establece la conexión con la base de datos\n",
    "try:\n",
    "    conn = connect(\n",
    "                    host = PGHOST,\n",
    "                    user = PGUSER,\n",
    "                    dbname = PGDATABASE,\n",
    "                    password = PGPASSWORD,\n",
    "                    port = PGPORT)\n",
    "    \n",
    "    print('Conectado!')\n",
    "except OperationalError as err:\n",
    "    print('Error en la conexión: '+ err)\n",
    "    \n",
    "    conn = None"
   ]
  },
  {
   "cell_type": "markdown",
   "metadata": {},
   "source": [
    "## Cursores"
   ]
  },
  {
   "cell_type": "markdown",
   "metadata": {},
   "source": [
    "Con la conexión establecida, se crea un **cursor** para realizar una consulta a la base de datos"
   ]
  },
  {
   "cell_type": "code",
   "execution_count": 5,
   "metadata": {
    "scrolled": true
   },
   "outputs": [
    {
     "data": {
      "text/plain": [
       "[(29441979, 'Eduardo', '3764206786'), (1234, 'Evelin', '987456')]"
      ]
     },
     "execution_count": 5,
     "metadata": {},
     "output_type": "execute_result"
    }
   ],
   "source": [
    "# Crea el cursor de la conexión y establece la consulta\n",
    "cur = conn.cursor()\n",
    "\n",
    "cur.execute(\"SELECT id_estudiante, nombre, numero_telefono \\\n",
    "            FROM estudiante;\")\n",
    "\n",
    "# Obtiene las filas resultantes de la consulta\n",
    "cur.fetchmany(size=10)"
   ]
  },
  {
   "cell_type": "code",
   "execution_count": 6,
   "metadata": {},
   "outputs": [
    {
     "data": {
      "text/plain": [
       "2"
      ]
     },
     "execution_count": 6,
     "metadata": {},
     "output_type": "execute_result"
    }
   ],
   "source": [
    "# Obtiene la cantidad de filas afectadas\n",
    "cur.rowcount"
   ]
  },
  {
   "cell_type": "markdown",
   "metadata": {},
   "source": [
    "A continuación se realiza una **inserción** en la base de datos. "
   ]
  },
  {
   "cell_type": "code",
   "execution_count": 7,
   "metadata": {},
   "outputs": [],
   "source": [
    "# Crea el cursor\n",
    "curInsert = conn.cursor() \n",
    "\n",
    "# Establece los valores de los datos a insertar\n",
    "idEstudiante = \"123456\"\n",
    "nombreEstudiante = \"María\"\n",
    "numeroTelefono = \"+549 9876 123456\"\n",
    "\n",
    "# Ejecuta la acción de inserción con los datos como parámetros de la consulta\n",
    "curInsert.execute(\"INSERT INTO estudiante (id_estudiante, nombre, numero_telefono) VALUES (%s, %s, %s)\", (idEstudiante, nombreEstudiante, numeroTelefono))"
   ]
  },
  {
   "cell_type": "code",
   "execution_count": 8,
   "metadata": {
    "scrolled": true
   },
   "outputs": [
    {
     "data": {
      "text/plain": [
       "1"
      ]
     },
     "execution_count": 8,
     "metadata": {},
     "output_type": "execute_result"
    }
   ],
   "source": [
    "# Obtiene la cantidad de filas afectadas por la operación INSERT\n",
    "curInsert.rowcount"
   ]
  },
  {
   "cell_type": "markdown",
   "metadata": {},
   "source": [
    "La inserción puede ser confirmada haciendo una nueva consulta a la base de datos"
   ]
  },
  {
   "cell_type": "code",
   "execution_count": 9,
   "metadata": {
    "scrolled": true
   },
   "outputs": [
    {
     "data": {
      "text/plain": [
       "[(29441979, 'Eduardo', '3764206786'),\n",
       " (1234, 'Evelin', '987456'),\n",
       " (123456, 'María', '+549 9876 123456')]"
      ]
     },
     "execution_count": 9,
     "metadata": {},
     "output_type": "execute_result"
    }
   ],
   "source": [
    "# Crea el cursor de la conexión y establece la consulta\n",
    "cur = conn.cursor()\n",
    "\n",
    "cur.execute(\"SELECT id_estudiante, nombre, numero_telefono \\\n",
    "            FROM estudiante;\")\n",
    "\n",
    "# Obtiene las filas resultantes de la consulta\n",
    "cur.fetchmany(size=10)"
   ]
  },
  {
   "cell_type": "markdown",
   "metadata": {},
   "source": [
    "## Confirmación de cambios y liberación de recursos"
   ]
  },
  {
   "cell_type": "markdown",
   "metadata": {},
   "source": [
    "Para que los cambios sean persistidos, es necesario confirmar las operaciones"
   ]
  },
  {
   "cell_type": "code",
   "execution_count": 10,
   "metadata": {},
   "outputs": [],
   "source": [
    "# Confirma las modificaciones a la base de datos\n",
    "conn.rollback()"
   ]
  },
  {
   "cell_type": "markdown",
   "metadata": {},
   "source": [
    "Alternativamente al `rollback()`, las modificaciones podrían ser confirmadas mediante la llamada a `commit()`"
   ]
  },
  {
   "cell_type": "markdown",
   "metadata": {},
   "source": [
    "Finalmente, los recursos de los cursores y la conexión es liberada mediante la llamada a `close()`"
   ]
  },
  {
   "cell_type": "code",
   "execution_count": 11,
   "metadata": {},
   "outputs": [],
   "source": [
    "# Libera los cursores\n",
    "cur.close()\n",
    "curInsert.close()\n",
    "\n",
    "# Cierra la conexión a la base de datos\n",
    "conn.close()"
   ]
  },
  {
   "cell_type": "markdown",
   "metadata": {},
   "source": [
    "## Conclusiones\n",
    "\n",
    "Mediante el los ejemplos presentados en la libreta se pudo observar en forma práctica cómo realizar una conexión a una base de datos utilizando variables de ambiente. \n",
    "\n",
    "Asimismo, se hay realizado consultas aa los datos y se realizó una operación de inserción de datos donde se evidenció la necesidad de confirmar los cambios en la base de datos antes del cierre de la conexión y consecuente liberación de los recursos."
   ]
  }
 ],
 "metadata": {
  "kernelspec": {
   "display_name": "Python 3 (ipykernel)",
   "language": "python",
   "name": "python3"
  },
  "language_info": {
   "codemirror_mode": {
    "name": "ipython",
    "version": 3
   },
   "file_extension": ".py",
   "mimetype": "text/x-python",
   "name": "python",
   "nbconvert_exporter": "python",
   "pygments_lexer": "ipython3",
   "version": "3.8.12"
  }
 },
 "nbformat": 4,
 "nbformat_minor": 4
}
