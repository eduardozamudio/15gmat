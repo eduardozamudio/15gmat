{
 "cells": [
  {
   "cell_type": "markdown",
   "metadata": {},
   "source": [
    "# Conexión a base de datos PostgreSQL\n",
    "\n",
    "Esta libreta establece un ejemplo de uso de un módulo desarrollado en python.\n",
    "\n",
    "La correcta ejecución de esta libreta incluye los siguientes elementos:\n",
    "* existe un archivo `.env` con las variables de ambiente de la conexión\n",
    "* se dispone de una instancia de servicio PostgreSQL con la base de datos `universidad`"
   ]
  },
  {
   "cell_type": "markdown",
   "metadata": {},
   "source": [
    "## Conexión a la base de datos"
   ]
  },
  {
   "cell_type": "markdown",
   "metadata": {},
   "source": [
    "Inicialmente se requiere establecer la conexión con la base de datos. \n",
    "\n",
    "Primero se realizan los imports de los módulos requeridos para la tarea"
   ]
  },
  {
   "cell_type": "code",
   "execution_count": 18,
   "metadata": {},
   "outputs": [],
   "source": [
    "import sys, os\n",
    "\n",
    "# Importa el conector de la base de datos PostgreSQL\n",
    "from psycopg2 import connect\n",
    "\n",
    "# Importa la gestión de errores del conector\n",
    "from psycopg2 import OperationalError\n",
    "\n",
    "# Importa la gestión de variables de ambiente\n",
    "from dotenv import load_dotenv"
   ]
  },
  {
   "cell_type": "code",
   "execution_count": 19,
   "metadata": {},
   "outputs": [],
   "source": [
    "# Carga las variables de ambiente del archivo .env\n",
    "load_dotenv('../.env')\n",
    "\n",
    "PGHOST = os.getenv('PGHOST')\n",
    "PGPORT = os.getenv('PGPORT')\n",
    "PGDATABASE= os.getenv('PGDATABASE')\n",
    "PGUSER = os.getenv('PGUSER') \n",
    "PGPASSWORD = os.getenv('PGPASSWORD')"
   ]
  },
  {
   "cell_type": "code",
   "execution_count": null,
   "metadata": {},
   "outputs": [],
   "source": [
    "print(\"Credenciales de acceso:\")\n",
    "print(PGHOST)\n",
    "print(PGPORT)\n",
    "print(PGDATABASE)\n",
    "print(PGUSER)\n",
    "print(PGPASSWORD)"
   ]
  },
  {
   "cell_type": "code",
   "execution_count": 21,
   "metadata": {},
   "outputs": [],
   "source": [
    "# Agrega el path al módulo universidad\n",
    "sys.path.append(os.getcwd()+'/../')"
   ]
  },
  {
   "cell_type": "code",
   "execution_count": 22,
   "metadata": {},
   "outputs": [],
   "source": [
    "# Importa el módulo universidad\n",
    "from universidad.servicios import calificaciones"
   ]
  },
  {
   "cell_type": "code",
   "execution_count": 23,
   "metadata": {},
   "outputs": [
    {
     "name": "stdout",
     "output_type": "stream",
     "text": [
      "Conectado!\n"
     ]
    },
    {
     "data": {
      "text/plain": [
       "Decimal('8.50')"
      ]
     },
     "execution_count": 23,
     "metadata": {},
     "output_type": "execute_result"
    }
   ],
   "source": [
    "# Obtiene el promedio de las calificaciones para una asignatura y edición dadas\n",
    "calificaciones.get_promedio_asignatura('15GMAT','Octubre 2021')"
   ]
  },
  {
   "cell_type": "markdown",
   "metadata": {},
   "source": [
    "## Conclusiones\n",
    "\n",
    "El uso de módulos propios o de terceros pueden ser utilizados desde nuestras aplicaciones, incluidas las libretas jupyter. \n",
    "La importación de los módulos es simple, aunque requiere indicar el path donde los módulos, y eventualmente las variables de ambiente, se encuentran localizadas. "
   ]
  }
 ],
 "metadata": {
  "kernelspec": {
   "display_name": "Python 3 (ipykernel)",
   "language": "python",
   "name": "python3"
  },
  "language_info": {
   "codemirror_mode": {
    "name": "ipython",
    "version": 3
   },
   "file_extension": ".py",
   "mimetype": "text/x-python",
   "name": "python",
   "nbconvert_exporter": "python",
   "pygments_lexer": "ipython3",
   "version": "3.8.12"
  }
 },
 "nbformat": 4,
 "nbformat_minor": 4
}
